{
 "cells": [
  {
   "cell_type": "markdown",
   "metadata": {},
   "source": [
    "# Bioinformatics Group Project\n",
    "\n",
    "This project will focus on analyzing simulated RNAseq data in order to evaluate differential gene expression between control and treatment samples. The goal is to combine your knowledge of Unix, Python/R, and bioinformatic tools muscle and hmmer to “replicate” a recent study of gene expression in kidney tissues of normal (control) and obese mice (Kuhns & Pluznick 2017). In this project, we have approximated this process by building protein models of 6 target transcripts, searching simulated transcriptome data for “hits,” and counted those hits as a proxy for gene expression.\n",
    "\n",
    "\n",
    "### Part 1: Use BLAST to identify the genes encoded by the 6 differentially expressed transcripts listed in *uniquetranscripts.fasta*\n",
    "\n",
    "* **Step 1**: Go to the NCBI Blast website\n",
    "* **Step 2**: Do a megablast search of the fasta sequences in the *uniquetranscripts.fasta* file. Make sure to set the database as \"nucleotide collection\".\n",
    "* **Step 3**: Download results of each transcript blasts as a CSV Hit Table\n",
    "* **Step 4**: In unix, use a code to compile all the top hits for the transcripts(should be the 1st row in the table)"
   ]
  },
  {
   "cell_type": "code",
   "execution_count": null,
   "metadata": {
    "collapsed": true
   },
   "outputs": [],
   "source": [
    "for file in *.csv; do head -1 $file; done > topHits.csv\n",
    "\n",
    "# Works only when the data is in multiple csv files\n",
    " \n",
    "#If you didn't want to use a for loop then you could do each file separately and then append them to the same document\n",
    "#Example code: head -1 filename.csv >> output.csv"
   ]
  },
  {
   "cell_type": "markdown",
   "metadata": {},
   "source": [
    "### Part 2: Search the NCBI protein database for amino acid sequences corresponding to these 6 transcripts\n",
    "\n",
    "* **Step 1**: Go to the NCBIprotein database\n",
    "* **Step 2**: Based on the top hits from part one and the protein names associated with them, search the protein data base for sequences.\n",
    "* **Step 3**: Choose 10-20 protein sequences from mice (Mus musculus) and other closely related organisms\n",
    "* **Step 4**: Download selected sequences saving one fasta file of protein sequences per transcript\n",
    "\n",
    "### Part 3: Write a python or R script to translate nucleotide sequences into amino acid sequences\n",
    "\n",
    "#### Basic Pseudocode: \n",
    "1. Import packages\n",
    "2. Import codon table as a dataframe while creating a dictionary for the codon map. \n",
    "    * Doing so avoids lots of issues down the road\n",
    "3. Create a for loop to read the codonmap.txt file into the codonMapDict dictionary. \n",
    "    * Reversing the columns helps with completing the dictionary; accomplished by an if statement.\t\n",
    "4. Make a definition for translating DNA, including a sequence searcher, the codonMapDict from above, and the stop codons as a variable of either TAA, TAG, or TGA. \n",
    "    * Regex can be a bit greedy if not properly programmed, due to tryptophan having TGG codon. We avoided this by assigning the three stop codons specifically.\n",
    "5. After the definition, simply start the sequence searcher to find ATG.\n",
    "6. Trim out the sequences up to the first start codon (ATG) then split the sequence into codons (increments of three).\n",
    "7. Sequentially build four different commands based on outfile to make an outfile (for example, control1Protein) as a writable file.\n",
    "\t* Do this for all files in question.\n",
    "8. Close codons at the end with codons.close()"
   ]
  },
  {
   "cell_type": "code",
   "execution_count": null,
   "metadata": {
    "collapsed": true
   },
   "outputs": [],
   "source": [
    "# Import packages\n",
    "import re\n",
    "import sys\n",
    "import itertools\n",
    "from sys import argv\n",
    "from itertools import takewhile\n",
    "\n",
    "# Open data files \n",
    "codons = open (\"codonmap.txt\", 'r')\n",
    "\n",
    "# Create a dictionary for codon map \n",
    "codonMapDict = {}\n",
    "\n",
    "# Create for loop to read codonmap.txt into dictionary (reversed columns 0 and 1 to create full dictionary)\n",
    "for line in codons:\n",
    "    line = line.strip()\n",
    "    cols = line.split()\n",
    "    if cols[1] in codonMapDict:\n",
    "        print (\"Duplicate: \" + codonMapDict [0])\n",
    "        break\n",
    "    else:\n",
    "        codonMapDict [cols[1]] = cols[0]\n",
    "\n",
    "#Create definition to be used in subsequent file conversions\n",
    "def translateDna(sequence, codonMapDict, stopCodons = ('TAA', 'TGA', 'TAG')):\n",
    "    #find first start codon \n",
    "    start = sequence.find('ATG')    \n",
    "    #trim sequence starting at first start codon \n",
    "    trimmedSequence = sequence[start:]    \n",
    "    #split sequence into codons \n",
    "    codons = [trimmedSequence[i:i+3] for i in range(0, len(trimmedSequence), 3)]\n",
    "    codingSequence = takewhile(lambda x: x not in stopCodons and len(x) == 3 , codons)\n",
    "    proteinSequence = ''.join([codonMapDict[codon] for codon in codingSequence])\n",
    "\n",
    "    return \"{0}_\".format(proteinSequence)\n",
    "\n",
    "# File 1\n",
    "outfile = open (\"control1Protein\", 'w')\n",
    "for line in open(\"control1.fasta\", 'r'):\n",
    "    line = line.strip()\n",
    "    if \">\" in line: \n",
    "        header = line \n",
    "        outfile.write(header + \"\\n\")\n",
    "    else:\n",
    "        sequence = line \n",
    "        x = translateDna (sequence, codonMapDict, stopCodons = ('TAA', 'TGA', 'TAG')) \n",
    "        outfile.write(x + \"\\n\")\n",
    "outfile.close()\n",
    "\n",
    "# File 2\n",
    "outfile = open (\"control2Protein\", 'w')\n",
    "for line in open(\"control2.fasta\", 'r'):\n",
    "    line = line.strip()\n",
    "    if \">\" in line: \n",
    "        header = line \n",
    "        outfile.write(header + \"\\n\")\n",
    "    else:\n",
    "        sequence = line \n",
    "        x = translateDna (sequence, codonMapDict, stopCodons = ('TAA', 'TGA', 'TAG')) \n",
    "        outfile.write(x + \"\\n\")\n",
    "outfile.close()\n",
    "\n",
    "# File 3\n",
    "outfile = open (\"obese1Protein\", 'w')\n",
    "for line in open(\"obese1.fasta\", 'r'):\n",
    "    line = line.strip()\n",
    "    if \">\" in line: \n",
    "        header = line \n",
    "        outfile.write(header + \"\\n\")\n",
    "    else:\n",
    "        sequence = line \n",
    "        x = translateDna (sequence, codonMapDict, stopCodons = ('TAA', 'TGA', 'TAG')) \n",
    "        outfile.write(x + \"\\n\")\n",
    "outfile.close()\n",
    "\n",
    "#File 4\n",
    "outfile = open (\"obese2Protein\", 'w')\n",
    "for line in open(\"obese2.fasta\", 'r'):\n",
    "    line = line.strip()\n",
    "    if \">\" in line: \n",
    "        header = line \n",
    "        outfile.write(header + \"\\n\")\n",
    "    else:\n",
    "        sequence = line \n",
    "        x = translateDna (sequence, codonMapDict, stopCodons = ('TAA', 'TGA', 'TAG')) \n",
    "        outfile.write(x + \"\\n\")\n",
    "outfile.close()\n",
    "\n",
    "codons.close()"
   ]
  },
  {
   "cell_type": "markdown",
   "metadata": {},
   "source": [
    "### Part 4: Build a Hidden Markov Model for each of the 6 transcript proteins and search the 4 translated “RNAseq files”\n",
    "\n",
    "#### Basic Pseudocode\n",
    "1. Do a loop for muscle alignments for each of the 6 transcripts from the downloaded protein sequences\n",
    "2. Do a HMM build in a loop using the new alignments and 6 \n",
    "3. Do a HMM search using the HMMbuild files and the fasta files containing sequences to be searched"
   ]
  },
  {
   "cell_type": "code",
   "execution_count": null,
   "metadata": {
    "collapsed": true
   },
   "outputs": [],
   "source": [
    "# Step 1\n",
    "for i in *.fasta\n",
    "do\n",
    "../muscle3.8.31_i86win32.exe -in $i -out $i.align\n",
    "done\n",
    "\n",
    "# Step 2\n",
    "for i in *.align\n",
    "do\n",
    "../hmmer-3.1b2-cygwin64/binaries/hmmbuild.exe $i.hmm $i\n",
    "done\n",
    "\n",
    "# Step 3\n",
    "for i in *.fasta\n",
    "do\n",
    "../hmmer-3.1b2-cygwin64/binaries/hmmsearch.exe --tblout $i.hits (loop all .hmm files) $i\n",
    "done"
   ]
  },
  {
   "cell_type": "markdown",
   "metadata": {},
   "source": [
    "### Part 5: Graph the “expression levels” of each protein in each of the “RNAseq files.”\n",
    "\n",
    "#### Basic Pseudocode\n",
    "1. Import packages, including numpy, pandas, scipy, and plotnine\n",
    "2. Establish RNAseq files as a dataframes (control1.fasta=1, control2.fasta=2, obese1.fasta=3, and obese2.fasta=4)\n",
    "3. From the dataframes, write a ggplot script for a violin graph with the following conditions...\n",
    "    * Points on the x axis belong to the transcript names (x=[1], for example)\n",
    "\t* The y axis spans a numerical range based on the number of transcripts\n",
    "\t* The dataframes are all plotted on one graph, with each dataframe having a separate color\n",
    "        * The violin graph should accomodate the entire range of transcript levels per each transcript, while allowing for all transcripts to be readily discernable."
   ]
  },
  {
   "cell_type": "code",
   "execution_count": null,
   "metadata": {
    "collapsed": true
   },
   "outputs": [],
   "source": [
    "#import packages\n",
    "import numpy\n",
    "import pandas\n",
    "import scipy\n",
    "from plotnine import *\n",
    "\n",
    "#assign ProteinCounts CSV as dataFrame\n",
    "ProteinDF=pandas.read_csv(\"ProteinCounts.csv\",header=0)\n",
    "#make shape so that ggplot can read file\n",
    "ProteinDF.shape\n",
    "a=ggplot(ProteinDF,aes(x=\"Protein\",y=\"Control1\"))+geom_point(color=\"blue\")\n",
    "a+theme_classic()\n",
    "b=ggplot(ProteinDF,aes(x=\"Protein\",y=\"Control2\"))+geom_point(color=\"red\")\n",
    "b+theme_classic()\n",
    "c=ggplot(ProteinDF,aes(x=\"Protein\",y=\"Obese1\"))+geom_point(color=\"green\")\n",
    "c+theme_classic()\n",
    "d=ggplot(ProteinDF,aes(x=\"Protein\",y=\"Obese2\"))+geom_point(color=\"black\")\n",
    "d+theme_classic()"
   ]
  },
  {
   "cell_type": "markdown",
   "metadata": {},
   "source": [
    "The results from the manuscript indicate that there are 4 genes that are upregulated and 2 that are downregulated.\n",
    "* Upregulated Genes\n",
    "    * Synpr\n",
    "    * Lhx2\n",
    "    * Atp12a\n",
    "    * Ptpn5\n",
    "* Downregulated Genes\n",
    "    * Gsta2\n",
    "    * Slc7a12\n",
    "\n",
    "\n",
    "From our experimental results, we obtained the following up- and downregulated genes...\n",
    "\n",
    "* Upregulated Genes\n",
    "    * Atp12a\n",
    "    * Synpr\n",
    "* Downregulated Genes\n",
    "    * Gsta2\n",
    "    * Slc7a12\n",
    "* No Data on these Genes\n",
    "    * Lhx2\n",
    "    * Ptpn5\n",
    "\n",
    "Lhx2 and Ptpn5 could have been resulted in no data due to no sequences being found in our experiment files."
   ]
  },
  {
   "cell_type": "markdown",
   "metadata": {},
   "source": [
    "## Further Explorations \n",
    "\n",
    "### Question 1: \n",
    "\n",
    "Search resticted to Mouse\n",
    "\n",
    "* Discontinuous MegaBlast\n",
    "    * Looks for longer matches therefore has less 'hits' (for example transcript 2 has 44 hits compared to the 123 hits from using Blastn) (146 vs 169 transcript 6) (262 vs 295 transcript 8)\n",
    "    * Accounts for genomes that have gapped alignments. Thus aligning sequences containing regions that don't have a match to the query sequence but still match portions of the query. Would probably be best on different species instead of the same type of species(i.e. mouse/Mus).\n",
    "* Blastn\n",
    "    * Many more hits found here -- not as specific sequences are included\n",
    "    * Another indication of the less specific results given from a Blastn search is the E value accepted values. For example the highest E value found under a discontinuous MegaBlast is 1.2 while 4.2 is found under the Blastn E values for transcript 8.\n",
    "\n",
    "### Question 2:"
   ]
  },
  {
   "cell_type": "code",
   "execution_count": null,
   "metadata": {
    "collapsed": true
   },
   "outputs": [],
   "source": [
    "#loop to align 6 transcripts from downloaded protein sequences\n",
    "#this loop takes protein transcripts from ProteinBlast directory and outputs to that directory\n",
    "#we then copy the .align file to the HMM directory for ease with HMM commands in the future\n",
    "\n",
    "for i in ./ProteinBlast/*.fasta\n",
    "do\n",
    "../HMMandMuscle/muscle3.8.31_i86win32.exe -in $i -out $i.align\n",
    "cp ./ProteinBlast/*.align ./HMM\n",
    "done"
   ]
  }
 ],
 "metadata": {
  "kernelspec": {
   "display_name": "Python 2",
   "language": "python",
   "name": "python2"
  },
  "language_info": {
   "codemirror_mode": {
    "name": "ipython",
    "version": 2
   },
   "file_extension": ".py",
   "mimetype": "text/x-python",
   "name": "python",
   "nbconvert_exporter": "python",
   "pygments_lexer": "ipython2",
   "version": "2.7.13"
  }
 },
 "nbformat": 4,
 "nbformat_minor": 2
}
