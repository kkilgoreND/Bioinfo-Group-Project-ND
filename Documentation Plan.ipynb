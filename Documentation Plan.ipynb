{
 "cells": [
  {
   "cell_type": "markdown",
   "metadata": {},
   "source": [
    "# Documentation Project Plan\n",
    "### Joe, Amanda, Phillip, Kristi (YY's section)"
   ]
  },
  {
   "cell_type": "markdown",
   "metadata": {},
   "source": [
    "## Use BLAST to identify the genes encoded by the 6 differentially expressed transcripts listed in uniquetranscripts.fasta \n",
    "### Kristi (11/28/17)"
   ]
  },
  {
   "cell_type": "markdown",
   "metadata": {},
   "source": [
    "## Search the NCBI protein database for amino acid sequences corresponding to these 6 transcripts\n",
    "### Amanda (11/30/17)"
   ]
  },
  {
   "cell_type": "markdown",
   "metadata": {},
   "source": [
    "## Translate the 4 provided files of “RNAseq data.”\n",
    "### Phillip (12/1/17)"
   ]
  },
  {
   "cell_type": "markdown",
   "metadata": {},
   "source": [
    "## Build a Hidden Markov Model for each of the 6 transcript proteins and search the 4 translated “RNAseq files.”\n",
    "### Joe (+2 days from Amanda's completion)"
   ]
  },
  {
   "cell_type": "markdown",
   "metadata": {},
   "source": [
    "## Graph the “expression levels” of each protein in each of the “RNAseq files.”\n",
    "### Phillip (11/29/17)"
   ]
  },
  {
   "cell_type": "markdown",
   "metadata": {},
   "source": [
    "## Further Exploration 1\n",
    "### TBD will be completed in pairs"
   ]
  },
  {
   "cell_type": "markdown",
   "metadata": {},
   "source": [
    "## Further Exploration 2\n",
    "### TBD will be completed in pairs"
   ]
  }
 ],
 "metadata": {
  "kernelspec": {
   "display_name": "Python 2",
   "language": "python",
   "name": "python2"
  },
  "language_info": {
   "codemirror_mode": {
    "name": "ipython",
    "version": 2
   },
   "file_extension": ".py",
   "mimetype": "text/x-python",
   "name": "python",
   "nbconvert_exporter": "python",
   "pygments_lexer": "ipython2",
   "version": "2.7.13"
  }
 },
 "nbformat": 4,
 "nbformat_minor": 2
}
